{
 "cells": [
  {
   "cell_type": "code",
   "execution_count": 1,
   "id": "18603005-1162-4e6f-ad49-7f1908c0334f",
   "metadata": {},
   "outputs": [
    {
     "data": {
      "text/plain": [
       "2"
      ]
     },
     "execution_count": 1,
     "metadata": {},
     "output_type": "execute_result"
    }
   ],
   "source": [
    "1+1"
   ]
  },
  {
   "cell_type": "markdown",
   "id": "5b179f5c-e561-4dbc-929a-fe5090664988",
   "metadata": {},
   "source": [
    "This is an in class exercise "
   ]
  },
  {
   "cell_type": "code",
   "execution_count": 3,
   "id": "19d210cb-db5b-4d52-b980-5ba6d01ea8b7",
   "metadata": {},
   "outputs": [
    {
     "name": "stdout",
     "output_type": "stream",
     "text": [
      "hello\n"
     ]
    }
   ],
   "source": [
    "print('hello')"
   ]
  },
  {
   "cell_type": "markdown",
   "id": "baad479d-24a0-4b9a-a984-4906fd624ceb",
   "metadata": {},
   "source": [
    "## the First in class exercise"
   ]
  },
  {
   "cell_type": "code",
   "execution_count": null,
   "id": "491022d1-c530-4a40-9831-8b1855db8111",
   "metadata": {},
   "outputs": [],
   "source": []
  },
  {
   "cell_type": "code",
   "execution_count": null,
   "id": "e07bbd4f-0d6f-4c3e-8838-a11ce0e6c4c0",
   "metadata": {},
   "outputs": [],
   "source": []
  },
  {
   "cell_type": "code",
   "execution_count": null,
   "id": "db39e44d-0c0c-46a7-a3f2-774faf748054",
   "metadata": {},
   "outputs": [],
   "source": []
  },
  {
   "cell_type": "code",
   "execution_count": null,
   "id": "977cb23e-c5f9-4215-a328-e5c3e09d0880",
   "metadata": {},
   "outputs": [],
   "source": []
  }
 ],
 "metadata": {
  "kernelspec": {
   "display_name": "Python 3 (ipykernel)",
   "language": "python",
   "name": "python3"
  },
  "language_info": {
   "codemirror_mode": {
    "name": "ipython",
    "version": 3
   },
   "file_extension": ".py",
   "mimetype": "text/x-python",
   "name": "python",
   "nbconvert_exporter": "python",
   "pygments_lexer": "ipython3",
   "version": "3.12.4"
  }
 },
 "nbformat": 4,
 "nbformat_minor": 5
}
